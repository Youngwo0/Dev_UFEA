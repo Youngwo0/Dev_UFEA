{
 "cells": [
  {
   "cell_type": "markdown",
   "metadata": {},
   "source": [
    "## UFEA 7주차 과제(ELS Pricing by using MC)"
   ]
  },
  {
   "cell_type": "markdown",
   "metadata": {},
   "source": [
    "### ELS"
   ]
  },
  {
   "cell_type": "markdown",
   "metadata": {},
   "source": [
    "ELS: Equity Linked Securities"
   ]
  },
  {
   "cell_type": "markdown",
   "metadata": {},
   "source": [
    "### Monte Calro Simulation"
   ]
  },
  {
   "cell_type": "markdown",
   "metadata": {},
   "source": [
    "①   주가 패스를 생성한다.\n",
    "\n",
    "②   생성된 주가 패스에 대해서 상품의 페이오프를 계산한다. 이 페이오프를 현재 계산시점으로 할인한다.\n",
    "\n",
    "③   ①~②번을 여러번 반복하여 여러 개의 할인 페이오프 샘플을 얻는다.\n",
    "\n",
    "④   ③에서 얻은 샘플들의 기댓값을 구한다.\n",
    "\n",
    "스텝다운 ELS은 낙인 여부를 관찰해야 하니 데일리로 주가 패스를 만들어야겠다!\n",
    " \n",
    "\n",
    "라는 생각이 듭니다. 낙인을 치고 만기까지 질질 끌다가 마지막 배리어를 넘지 못하여 손실 상환이 되는 경우가 있고, 이 부분을 처리하기 위해 낙인 여부를 판단해야 하므로 데일리 주가를 생성해내는 게 맞아 보입니다."
   ]
  },
  {
   "cell_type": "markdown",
   "metadata": {},
   "source": [
    "### Code"
   ]
  },
  {
   "cell_type": "code",
   "execution_count": 1,
   "metadata": {},
   "outputs": [],
   "source": [
    "import numpy as np\n",
    "\n",
    "import time"
   ]
  },
  {
   "cell_type": "markdown",
   "metadata": {},
   "source": [
    "### 1-star ELS(Monte Carlo)"
   ]
  },
  {
   "cell_type": "code",
   "execution_count": 17,
   "metadata": {},
   "outputs": [],
   "source": [
    "class Market:\t#market parameter를 관리하기 위한 class 도입\n",
    "    def __init__(self, rfr):\n",
    "        self._rfr = rfr\t#class 멤버 변수 rfr : 무위험 이자율을 뜻함"
   ]
  },
  {
   "cell_type": "code",
   "execution_count": 18,
   "metadata": {},
   "outputs": [],
   "source": [
    "class Underlying:\t#Underlying class 설정\n",
    "    def __init__(self, refprice, spotvalue, volatility, dividend):\n",
    "        self._volatility = volatility\t#멤버변수 _volatility : 변동성\n",
    "        self._dividend = dividend\t\t#멤버변수 _dividend : 연속 배당률\n",
    "        self._spot = spotvalue\t\t\t#멤버변수 _spot : 기초자산 현재가\n",
    "        self._refprice = refprice\t\t#멤버변수 _refprice : 기초자산 기준가"
   ]
  },
  {
   "cell_type": "code",
   "execution_count": 21,
   "metadata": {},
   "outputs": [],
   "source": [
    "\n",
    "def one_dimension_mc(objUnderlying: Underlying, objMarket: Market, redemption_schedule, coupon,\n",
    "                 full_dummy, barrier, ki_barrier, n_iteration):\n",
    "# 입력파라미터\n",
    "# objUnderlying : 기초자산 class\n",
    "# objMarket : 시장 파라미터 class\n",
    "# redemption_schedule : 상환스케줄 array (발행시점부터 경과된 일자, 예를들어 \n",
    "# 6m = 125, 1y=250,..3y=750  -> (125, 250, 375, 500, 625, 750))\n",
    "# coupon : 상환시점에 수익상환시 지급되는 쿠폰 array (예컨대 {5%, 10%, 15%, 20%, 25%, 30%)\n",
    "# full_dummy : 만기시 full dummy 쿠폰 값\n",
    "# barrier : 상환시점의 배리어 array ( 예컨대, (0.9, 0.9, 0.85, 0.85, 0.8, 0.8))\n",
    "# ki_barrier : 낙인 배리어\n",
    "# n_iteration : MonteCarlo Simulation 횟수\n",
    "\n",
    "    #class 멤버변수에서 얻어온 변동성\n",
    "    vol = objUnderlying._volatility\t\n",
    "    div = objUnderlying._dividend\n",
    "    rfr = objMarket._rfr\n",
    "    current_spot = objUnderlying._spot\n",
    "    refprice = objUnderlying._refprice\n",
    "    \n",
    "    #하루 단위를 연단위로 표시\n",
    "    dt = 1 / 250\n",
    "\n",
    "    drift = (rfr - div - 0.5 * vol ** 2) * dt\t#일간 drift term\n",
    "    diffusion = vol * np.sqrt(dt)\t\t\t\t#일간 diffusion term\n",
    "    maturity = redemption_schedule[-1]\t\t\t#상환스케쥴의 마지막 원소는 만기일자\n",
    "\n",
    "    sum_price = 0\t# MC시뮬레이션 하나당 발생하는 결과를 누적할 변수\n",
    "\n",
    "    redemp_prob = np.zeros(len(redemption_schedule) + 2)\t\n",
    "    # 각 상환시점 쿠폰 상환 확률, full_dummy 지급확률, 손실상환 확률을 구할 변수\n",
    "    np.random.seed(0)\t# random number 시드고정\n",
    "    start_time = time.time()\t#계산소요시간을 산출하기 위해 start time 기록\n",
    "    for i in range(n_iteration):    # simulation을 돌리기 시작\n",
    "        temp_price = 0              # 각 simulation 당 할인된 페이오프 저장할 변수\n",
    "        sSeries = [current_spot]    # sSeries라는 list에 우선 현재가 집어넣음\n",
    "        payoff = 0                  # payoff 변수\n",
    "        discount_factor = 0         # 할인팩터 변수\n",
    "        old_spot = current_spot     # 재귀적으로 일일주가패스 생성을 위한 변수 old_spot도입\n",
    "        for j in range(maturity):\n",
    "            new_spot = old_spot * np.exp(drift + diffusion * np.random.normal())\n",
    "            # GBM model로 내일의 주가 생성\n",
    "            sSeries.append(new_spot)    # 새로이 생성된 new_spot 을 sSeries list에 삽입\n",
    "            old_spot = new_spot         # 재귀적 생성을 위해 다시 old_spot에 대입\n",
    "        sSeries = np.array(sSeries) / refprice\t# 퍼포먼스 계산을 위해 기준가 refprice로 나눔\n",
    "\n",
    "        for k in range(len(redemption_schedule)):  # 상환스케쥴 배열 for문을 돌리며\n",
    "            ind = redemption_schedule[k]           # k번째 상환스케쥴 일자를 ind에 저장\n",
    "            redemption_mat = ind                   # 저장된 값이 k번째 상환만기일자가 됨\n",
    "            if sSeries[ind] >= barrier[k]:         # 딱 그날 퍼포먼스가 배리어 상회하면\n",
    "                payoff = 1 + coupon[k]             # 수익쿠폰 및 원금 상환\n",
    "                discount_factor = np.exp(-rfr * redemption_mat / 250)\t# 할인펙터 계산\n",
    "                redemp_prob[k] += 1                # k번째 상환시점에 상환됐음을 count함\n",
    "                break                              # 상품이 상환되어 끝났으므로 for문을 끝냄\n",
    "            else:\t# 쿠폰 수익 상환이 안되었다면,\n",
    "                discount_factor = np.exp(-rfr * redemption_mat / 250)\t#만기까지 간 상황, 할인팩터 구함\n",
    "                if (k == len(redemption_schedule) - 1) & (min(sSeries) < ki_barrier):\n",
    "                # 만기상환시점이고, 주가패스 중 최저점이 낙인배리어보다 아래면(즉, 낙인 발생)\n",
    "                    payoff = sSeries[redemption_mat]\t# 만기퍼포먼스가 payoff가 됨\n",
    "                    redemp_prob[-1] += 1\t\t\t\t# redemp_prob의 마지막 원소에 counting함\n",
    "                elif (k == len(redemption_schedule) - 1) & (min(sSeries) >= ki_barrier):\n",
    "                #만기상한시점이고 낙인을 안쳤으면\n",
    "                    payoff = 1 + full_dummy\t#full dummy지급구간임\n",
    "                    redemp_prob[-2] += 1        #마지막에서 두번째 원소가 full_dummy 지급 counting\n",
    "\n",
    "        temp_price = payoff * discount_factor   #할인된 페이오프\n",
    "        sum_price += temp_price                 #할인된 페이오프를 누적함\n",
    "\n",
    "    els_value = sum_price / n_iteration         #누적한 결과를 시뮬레이션 횟수로 나눔, 즉 기댓값\n",
    "    cal_time = round(time.time() - start_time, 3)\t#계산 종료, 계산경과시간 계산\n",
    "    redemp_prob /= n_iteration\t#redemp_prob 는counting만 한 것이므로 simul횟수로 나눠 확률을 구해줌\n",
    "    return els_value, cal_time, redemp_prob\t# elsvalue와 계산시간, 상환확률 return"
   ]
  },
  {
   "cell_type": "code",
   "execution_count": 22,
   "metadata": {},
   "outputs": [
    {
     "name": "stdout",
     "output_type": "stream",
     "text": [
      "0.9833693017422173\n",
      "8.858\n",
      "[0.6798 0.0886 0.0557 0.0237 0.0231 0.0131 0.0016 0.1144]\n"
     ]
    }
   ],
   "source": [
    "underlying_spot = Underlying(refprice=100, spotvalue=100, volatility=0.3, dividend=0)\n",
    "# 기준가 100, 현재가격 100, 변동성 30%, 배당 0인 기초자산\n",
    "interest_rate = Market(0.03)\n",
    "# 이자율이 3%인 시장 파라미터 클래스\n",
    "redemption_schedule = np.array([1, 2, 3, 4, 5, 6]) * 125    #3y 6m, 6 Chance Stepdown ELS\n",
    "coupon = np.array([1, 2, 3, 4, 5, 6]) * 0.05                # coupon : 10% p.a.\n",
    "full_dummy = coupon[-1]\t                                    # full dummy cpn = 30%\n",
    "barrier = np.array([0.9, 0.9, 0.85, 0.85, 0.8, 0.8])        # 조기/만기상환 배리어\n",
    "ki_barrier = 0.6                                            # knock in barrier\n",
    "n_iteration = 10000                                         # simulation 횟수\n",
    "\n",
    "els_price, cal_time, prob = one_dimension_mc(underlying_spot, interest_rate, redemption_schedule, coupon,\n",
    "                                         full_dummy, barrier, ki_barrier, n_iteration)\n",
    "np.set_printoptions(suppress=True)   #scientific notation 을 피하기 위한 print 옵션\n",
    "print(els_price)\n",
    "print(cal_time)\n",
    "print(prob)"
   ]
  },
  {
   "cell_type": "markdown",
   "metadata": {},
   "source": [
    "#### Brown Bridge(Monte Carlo)"
   ]
  },
  {
   "cell_type": "code",
   "execution_count": 30,
   "metadata": {},
   "outputs": [],
   "source": [
    "def one_dimension_mc_bb(objUnderlying: Underlying, objMarket: Market, redemption_schedule, coupon,\n",
    "                    full_dummy, barrier, ki_barrier, n_iteration):\n",
    "    vol = objUnderlying._volatility\n",
    "    div = objUnderlying._dividend\n",
    "    rfr = objMarket._rfr\n",
    "    current_spot = objUnderlying._spot\n",
    "    refprice = objUnderlying._refprice\n",
    "    dt = 1 / 250\n",
    "    drift = (rfr - div - 0.5 * vol ** 2)\n",
    "    maturity = redemption_schedule[-1]\n",
    "\n",
    "    sum_price = 0\n",
    "    temp_price = 0\n",
    "\n",
    "    nSchedule = len(redemption_schedule)      # nSchedule : 상환스케쥴 개수 (6개) \n",
    "\n",
    "    tenor = np.zeros(nSchedule)               # tenor는 다음상환시점까지의 잔존시간 \n",
    "    tenor[0] = redemption_schedule[0]         # 현재시점은 0이므로 처음 조기상환시점 T1까지 잔존시간 T1\n",
    "    tenor[1:] = np.diff(redemption_schedule)  # T_{i-1}과 T_i 사이의 잔존시간은 T_i - T_{i-1}\n",
    "    tenor /= 250                              # redemption_schedule의 day개념이므로 연으로 환산\n",
    "    redemp_prob = np.zeros(nSchedule + 2)     # 각 쿠폰상환 확률(1~6) 및 fulldummy, 손실상환 확률 arr\n",
    "    np.random.seed(0)\n",
    "    sum_payoff = 0\n",
    "\n",
    "    start_time = time.time()\n",
    "    for i in range(n_iteration):    # 시뮬레이션을 n_iteration회 돌린다.\n",
    "        rn = []                     # 각 조기/만기상한 시점의 주가를 생성해 낸 random 변수를 저장할 list\n",
    "        redem_spot = []             # 각 조기/만기상한 시점의 주가를 저장할 list\n",
    "        old_spot = current_spot     # 현재가를 old_spot 변수에 저장\n",
    "        ki_occurs = False           # ki_occurs는 boolean type으로 낙인이 일어났는지 여부\n",
    "        redem_spot.append(old_spot) # redem_spot에 현재가를 우선 저장\n",
    "\n",
    "        for j in range(nSchedule):                # Schedule 개수만큼 for문을 돌리며\n",
    "            rn_normal = np.random.normal()        # 정규분포 난수 한개 발생시킴\n",
    "            new_spot = old_spot * np.exp(drift * tenor[j] + vol * np.sqrt(tenor[j]) * rn_normal)\n",
    "                                                  # 재귀적으로 새로운 주가 생성\n",
    "                                                  # 재귀적 산출을 위해 {T_i -T_{i-1}} 를 구한 것\n",
    "            if new_spot / refprice >= barrier[j]: # next 상환시점 주가 퍼포먼스가 배리어를 상회하면\n",
    "                payoff = 1 + coupon[j]            # 원금 및 쿠폰지급\n",
    "                df = np.exp(-rfr * redemption_schedule[j] / 250)\n",
    "                                                  # 할인팩터\n",
    "                redemp_prob[j] += 1               # 그 상환시점을 counting하여 확률구할때 씀\n",
    "                break       \n",
    "            else:\n",
    "                old_spot = new_spot          # 쿠폰 상환이 안된 상태(break 가 안먹음)\n",
    "                redem_spot.append(new_spot)  # 상환시점의 주가들을 모아놓은 list\n",
    "                if new_spot / refprice < ki_barrier:  \n",
    "                                             # 만일 상환시점 주가가 ki barrier 밑이면\n",
    "                    ki_occurs = True         # ki flag를 true로 설정\n",
    "                rn.append(rn_normal)\n",
    "                if j == nSchedule - 1:       # 만기 시점일 때,\n",
    "                    df = np.exp(-rfr * redemption_schedule[j] / 250)\n",
    "                                             # 할인팩터 구함\n",
    "                    if ki_occurs:            # ki flag 가 true이면,\n",
    "                        payoff = old_spot / refprice \n",
    "                                             # 주가 퍼포먼스에 연동된 payoff 지급\n",
    "                        redemp_prob[-1] += 1 # 손실상환 counting은 redemp_prob 제일 마지막 원소에\n",
    "                    else:                    # ki flag가 false이면,\n",
    "                                             # 즉 상환시점의 주가상태는 ki 친 상황이 아니면\n",
    "                                             # 상환시점 사이에서 knock in을 쳤는지 알아봐야 한다!\n",
    "                        for k in range(nSchedule):\n",
    "                            # Brownian Bridge를 만들기 위해, 두 시점과 두 시점의 normal random\n",
    "                            # 변수를 구함\n",
    "                            if k == 0:\n",
    "                                t1, t2 = 0, redemption_schedule[k]\n",
    "                                s1, s2 = redem_spot[k], redem_spot[k + 1]\n",
    "                                zt1, zt2 = 0, (np.log(s2 / refprice) - drift * np.sqrt(t2)) / (vol * np.sqrt(t2))\n",
    "                            else:\n",
    "                                t1, t2 = redemption_schedule[k - 1], redemption_schedule[k]\n",
    "                                zt1 = (np.log(s1 / refprice) - drift * np.sqrt(t1)) / (vol * np.sqrt(t1))\n",
    "                                zt2 = (np.log(s2 / refprice) - drift * np.sqrt(t2)) / (vol * np.sqrt(t2))\n",
    "\n",
    "                            wiener = np.zeros(t2 - t1 + 1)  \n",
    "                            timegrid = np.arange(t2 - t1 + 1)\n",
    "                            for c in range(t2 - t1):   # 두 점을 연결하기 위한 wiener process설계\n",
    "                                wiener[c + 1] = wiener[c] + np.random.normal() * np.sqrt(1 / 250)\n",
    "                            bbridge = zt1 + timegrid / (t2 - t1) * (zt2 - zt1) + wiener - timegrid / (t2 - t1) * wiener[\n",
    "                                -1]                    # Brownian bridge 건설\n",
    "                            svec = s1 * np.exp(drift * dt + vol * np.sqrt(dt) * bbridge)\n",
    "                                                       # Brownian bridge로 일일주가 생성\n",
    "                            if min(svec) / refprice < ki_barrier: # 생성된 주가패스의 최저값이 ki barrier 아래면\n",
    "                                ki_occurs = True                  # 낙인 flag = True\n",
    "                                break                             # 이미 낙인 상황이므로 더 볼 필요도 없음\n",
    "                        if ki_occurs:\n",
    "                            payoff = old_spot / refprice          # 낙인쳤으면 손실상환\n",
    "                            redemp_prob[-1] += 1                  # 낙인상황 counting\n",
    "                        else:\n",
    "                            payoff = 1 + full_dummy               # 낙인안쳤으면 full dummy 상환\n",
    "                            redemp_prob[-2] += 1                  # full dummy 지급상황 counting\n",
    "        sum_payoff += df * payoff\n",
    "    \n",
    "    cal_time = round(time.time() - start_time, 3)\n",
    "    els_value = sum_payoff / n_iteration\n",
    "    redemp_prob /= n_iteration\n",
    "    return els_value, cal_time, redemp_prob                                 # 할인 페이오프 누적"
   ]
  },
  {
   "cell_type": "code",
   "execution_count": 32,
   "metadata": {},
   "outputs": [
    {
     "name": "stdout",
     "output_type": "stream",
     "text": [
      "----------\n",
      "0.9833693017422173\n",
      "8.828\n",
      "[0.6798 0.0886 0.0557 0.0237 0.0231 0.0131 0.0016 0.1144]\n",
      "----------\n",
      "0.9882142191996907\n",
      "0.17\n",
      "[0.6796 0.0905 0.0514 0.0225 0.0242 0.0137 0.0118 0.1063]\n",
      "----------\n"
     ]
    }
   ],
   "source": [
    "underlying_spot = Underlying(refprice=100, spotvalue=100, volatility=0.3, dividend=0)\n",
    "# 기준가 100, 현재가격 100, 변동성 30%, 배당 0인 기초자산 객체 설계\n",
    "interest_rate = Market(0.03)\n",
    "# 이자율이 3%인 시장 파라미터 클래스 설계\n",
    "redemption_schedule = np.array([1, 2, 3, 4, 5, 6]) * 125    #3y 6m, 6 Chance Stepdown ELS\n",
    "coupon = np.array([1, 2, 3, 4, 5, 6]) * 0.05                # coupon : 10% p.a.\n",
    "full_dummy = coupon[-1]\t                                    # full dummy cpn = 30%\n",
    "barrier = np.array([0.9, 0.9, 0.85, 0.85, 0.8, 0.8])        # 조기/만기상환 배리어\n",
    "ki_barrier = 0.6                                            # knock in barrier\n",
    "n_iteration = 10000                                         # simulation 횟수\n",
    "\n",
    "els_price, cal_time, prob = one_dimension_mc(underlying_spot, interest_rate, redemption_schedule, coupon,\n",
    "                                         full_dummy, barrier, ki_barrier, n_iteration)\n",
    "els_price_bb, cal_time_bb, prob_bb = one_dimension_mc_bb(underlying_spot, interest_rate, redemption_schedule, coupon,\n",
    "                                                     full_dummy, barrier, ki_barrier, n_iteration)\n",
    "np.set_printoptions(suppress=True)\n",
    "\n",
    "print('----------')\n",
    "print(els_price)\n",
    "print(cal_time)\n",
    "print(prob)\n",
    "print('----------')\n",
    "print(els_price_bb)\n",
    "print(cal_time_bb)\n",
    "print(prob_bb)\n",
    "print('----------')"
   ]
  },
  {
   "cell_type": "code",
   "execution_count": 44,
   "metadata": {},
   "outputs": [
    {
     "name": "stdout",
     "output_type": "stream",
     "text": [
      "----------\n",
      "0.9878295701967492\n",
      "1.607\n",
      "[0.67946 0.08792 0.05345 0.02498 0.02344 0.01316 0.01153 0.10606]\n",
      "----------\n"
     ]
    }
   ],
   "source": [
    "underlying_spot = Underlying(refprice=100, spotvalue=100, volatility=0.3, dividend=0)\n",
    "# 기준가 100, 현재가격 100, 변동성 30%, 배당 0인 기초자산 객체 설계\n",
    "interest_rate = Market(0.03)\n",
    "# 이자율이 3%인 시장 파라미터 클래스 설계\n",
    "redemption_schedule = np.array([1, 2, 3, 4, 5, 6]) * 125    #3y 6m, 6 Chance Stepdown ELS\n",
    "coupon = np.array([1, 2, 3, 4, 5, 6]) * 0.05                # coupon : 10% p.a.\n",
    "full_dummy = coupon[-1]\t                                    # full dummy cpn = 30%\n",
    "barrier = np.array([0.9, 0.9, 0.85, 0.85, 0.8, 0.8])        # 조기/만기상환 배리어\n",
    "ki_barrier = 0.6                                            # knock in barrier\n",
    "n_iteration = 100000\n",
    "\n",
    "els_price_bb, cal_time_bb, prob_bb = one_dimension_mc_bb(underlying_spot, interest_rate, redemption_schedule, coupon,\n",
    "                                                     full_dummy, barrier, ki_barrier, n_iteration)\n",
    "np.set_printoptions(suppress=True)                                         # simulation 횟수\n",
    "\n",
    "print('----------')\n",
    "print(els_price_bb)\n",
    "print(cal_time_bb)\n",
    "print(prob_bb)\n",
    "print('----------')"
   ]
  },
  {
   "cell_type": "markdown",
   "metadata": {},
   "source": [
    "### Two-star ELS"
   ]
  },
  {
   "cell_type": "code",
   "execution_count": 14,
   "metadata": {},
   "outputs": [],
   "source": [
    "class Market_2: #market prarmeter를 관리하기 위한 class\n",
    "    def __init__(self, rfr, correlation):\n",
    "        self._rfr = rfr\n",
    "        self._correlation = correlation"
   ]
  },
  {
   "cell_type": "code",
   "execution_count": 15,
   "metadata": {},
   "outputs": [],
   "source": [
    "class Underlying_2:\n",
    "    def __init__(self,refprice, spotvalue, volatility, dividend):\n",
    "        self._refprice = refprice #기초자산 기준가\n",
    "        self._spotvalue = spotvalue #기초자산 현재가\n",
    "        self._volatility = volatility #변동성\n",
    "        self._dividend = dividend #연속 배당률"
   ]
  },
  {
   "cell_type": "code",
   "execution_count": 17,
   "metadata": {},
   "outputs": [],
   "source": [
    "def two_dimension_mc(obj_underlying_1: Underlying_2, obj_underlying_2: Underlying_2, obj_market: Market_2, \n",
    "                     redemption_schedule, coupon, full_dummy, barrier, ki_barrier, n_iteration):\n",
    "    \n",
    "    # 입력파라미터\n",
    "    # obj_underlying_1 : 기초자산_1 class\n",
    "    # obj_underlying_2 : 기초자산_2 class\n",
    "    # objMarket : 시장 파라미터 class\n",
    "    # redemption_schedule : 상환스케줄 array (발행시점부터 경과된 일자, 예를들어 \n",
    "    # 6m = 125, 1y=250,..3y=750  -> (125, 250, 375, 500, 625, 750))\n",
    "    # coupon : 상환시점에 수익상환시 지급되는 쿠폰 array (예컨대 {5%, 10%, 15%, 20%, 25%, 30%)\n",
    "    # full_dummy : 만기시 full dummy 쿠폰 값\n",
    "    # barrier : 상환시점의 배리어 array ( 예컨대, (0.9, 0.9, 0.85, 0.85, 0.8, 0.8))\n",
    "    # ki_barrier : 낙인 배리어\n",
    "    # n_iteration : MonteCarlo Simulation 횟수\n",
    "    \n",
    "    vol_1 = obj_underlying_1._volatility\n",
    "    div_1 = obj_underlying_1._dividend\n",
    "    current_spot_1 = obj_underlying_1._spotvalue\n",
    "    refprice_1 = obj_underlying_1._refprice\n",
    "    \n",
    "    vol_2 = obj_underlying_2._volatility \n",
    "    div_2 = obj_underlying_2._dividend\n",
    "    current_spot_2 = obj_underlying_2._spotvalue\n",
    "    refprice_2 = obj_underlying_2._refprice\n",
    "\n",
    "    rfr = obj_market._rfr\n",
    "    corr = obj_market._correlation\n",
    "\n",
    "    dt = 1/250\n",
    "    maturity = redemption_schedule[-1]\n",
    "\n",
    "    drift_1 = (rfr - div_1 -.5*vol_1**2)\n",
    "    diffusion_1 = vol_1 * np.sqrt(dt)\n",
    "    drift_2 = (rfr - div_2 -.5*vol_2**2)\n",
    "    diffusion_2 = vol_2 * np.sqrt(dt)\n",
    "\n",
    "    np.random.seed(0) # random number 시드고정\n",
    "    sum_price = 0 # MC시뮬레이션 하나당 발생하는 결과를 누적할 변수\n",
    "    redemp_prob = np.zeros(len(redemption_schedule) + 2) # 각 상환시점 쿠폰 상환 확률, full_dummy 지급확률, 손실상환 확률을 구할 변수\n",
    "    start_time = time.time() #계산소요시간을 산출하기 위해 start time 기록\n",
    "\n",
    "    for i in range(n_iteration):\n",
    "        temp_price = 0\n",
    "        payoff = 0\n",
    "        discount_factor = 0\n",
    "        s_series_1 = [current_spot_1]\n",
    "        s_series_2 = [current_spot_2]\n",
    "        old_spot_1 = current_spot_1\n",
    "        old_spot_2 = current_spot_2\n",
    "\n",
    "        for j in range(maturity):\n",
    "            Z1 = np.random.standard_normal()\n",
    "            Z2 = corr * Z1 + (1-corr**2) * np.random.standard_normal()\n",
    "\n",
    "            new_spot_1 = old_spot_1 * np.exp(drift_1 + diffusion_1 * Z1)\n",
    "            s_series_1.append(new_spot_1)\n",
    "            old_spot_1 = new_spot_1\n",
    "\n",
    "            new_spot_2 = old_spot_2 * np.exp(drift_2 + diffusion_2 * Z2)\n",
    "            s_series_2.append(new_spot_2)\n",
    "            old_spot_2 = new_spot_2\n",
    "\n",
    "        s_series_1 = np.array(s_series_1)/refprice_1\n",
    "        s_series_2 = np.array(s_series_2)/refprice_2\n",
    "\n",
    "        for k in range(len(redemption_schedule)):\n",
    "            idx = redemption_schedule[k]\n",
    "            redemption_mat = idx\n",
    "            if (s_series_1[idx] >= barrier[k]) and (s_series_2[idx] >= barrier[k]):\n",
    "                payoff = 1 + coupon[k]\n",
    "                discount_factor = np.exp(-rfr * redemption_mat/250)\n",
    "                redemp_prob[k] += 1\n",
    "                break\n",
    "            else:\n",
    "                discount_factor = np.exp(-rfr * redemption_mat/250)\n",
    "                if (k==len(redemption_schedule)-1) & ((min(s_series_1)<ki_barrier) or (min(s_series_2)<ki_barrier)):\n",
    "                    payoff = min(s_series_1[redemption_mat], s_series_2[redemption_mat])\n",
    "                    redemp_prob[-1] += 1\n",
    "                elif (k==len(redemption_schedule)-1) & ((min(s_series_1)>=ki_barrier) or (min(s_series_2)>=ki_barrier)):\n",
    "                    payoff = 1 + full_dummy\n",
    "                    redemp_prob[-2] += 1\n",
    "\n",
    "        temp_price = payoff * discount_factor\n",
    "        sum_price += temp_price\n",
    "\n",
    "    els_value = sum_price/n_iteration\n",
    "\n",
    "    cal_time = round(time.time() - start_time, 3)\n",
    "    redemp_prob /= n_iteration\n",
    "    return els_value, cal_time, redemp_prob\n"
   ]
  },
  {
   "cell_type": "code",
   "execution_count": 18,
   "metadata": {},
   "outputs": [],
   "source": [
    "# 기초자산 1\n",
    "refprice_1 = 100\n",
    "spotvalue_1 = 100\n",
    "volatility_1 = 0.2\n",
    "dividend_1 = 0.01\n",
    "\n",
    "#기초자산 2\n",
    "refprice_2 = 100\n",
    "spotvalue_2 = 100\n",
    "volatility_2 = 0.4\n",
    "dividend_2 = 0.05\n",
    "\n",
    "underlying_1 = Underlying_2(refprice=refprice_1, spotvalue=spotvalue_1, volatility=volatility_1, dividend=dividend_1)\n",
    "underlying_2 = Underlying_2(refprice=refprice_2, spotvalue=spotvalue_2, volatility=volatility_2, dividend=dividend_2)\n",
    "\n",
    "correlation = 0.5\n",
    "market = Market_2(rfr = 0.03, correlation=0.5)\n",
    "\n",
    "redemption_schedule = np.array([1,2,3,4,5,6]) * 125 # 3y, 6m, 6 Chances stepdown ELS\n",
    "coupon = np.array([1,2,3,4,5,6]) * 0.05\n",
    "full_dummy = coupon[-1]\n",
    "barrier = np.array([0.9, 0.9, 0.85, 0.8, 0.75, 0.70])\n",
    "ki_barrier = 0.5\n",
    "n_iteration = 10000"
   ]
  },
  {
   "cell_type": "code",
   "execution_count": 19,
   "metadata": {},
   "outputs": [
    {
     "name": "stdout",
     "output_type": "stream",
     "text": [
      "2.9907876584476392e-33\n",
      "13.482\n",
      "[0. 0. 0. 0. 0. 0. 0. 1.]\n"
     ]
    }
   ],
   "source": [
    "els_price, cal_time, prob = two_dimension_mc(underlying_1, underlying_2, market, redemption_schedule, coupon, \n",
    "                                             full_dummy, barrier, ki_barrier, n_iteration)\n",
    "\n",
    "np.set_printoptions(suppress=True)\n",
    "print(els_price)\n",
    "print(cal_time)\n",
    "print(prob)\n"
   ]
  },
  {
   "cell_type": "code",
   "execution_count": null,
   "metadata": {},
   "outputs": [],
   "source": []
  }
 ],
 "metadata": {
  "kernelspec": {
   "display_name": "Python 3",
   "language": "python",
   "name": "python3"
  },
  "language_info": {
   "codemirror_mode": {
    "name": "ipython",
    "version": 3
   },
   "file_extension": ".py",
   "mimetype": "text/x-python",
   "name": "python",
   "nbconvert_exporter": "python",
   "pygments_lexer": "ipython3",
   "version": "3.11.2"
  },
  "orig_nbformat": 4
 },
 "nbformat": 4,
 "nbformat_minor": 2
}
