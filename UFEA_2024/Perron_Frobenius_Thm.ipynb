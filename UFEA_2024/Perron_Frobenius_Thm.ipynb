{
 "cells": [
  {
   "cell_type": "code",
   "execution_count": 3,
   "metadata": {},
   "outputs": [],
   "source": [
    "import numpy as np\n",
    "from numpy.linalg import eig\n",
    "import scipy as sp\n",
    "import quantecon as qe"
   ]
  },
  {
   "cell_type": "code",
   "execution_count": 4,
   "metadata": {},
   "outputs": [
    {
     "name": "stdout",
     "output_type": "stream",
     "text": [
      "The eigenvalues of A are:\n",
      " [2. 5.]\n",
      "\n",
      "The corresponding right eigenvectors are: \n",
      " [-0.89443  0.44721] and [0.70711 0.70711]\n",
      "\n",
      "The corresponding left eigenvectors are: \n",
      " [-0.70711  0.70711] and [0.44721 0.89443]\n",
      "\n"
     ]
    }
   ],
   "source": [
    "A = np.array([[3, 2],\n",
    "              [1, 4]])\n",
    "\n",
    "# Compute eigenvalues and right eigenvectors\n",
    "λ, v = eig(A)\n",
    "\n",
    "# Compute eigenvalues and left eigenvectors\n",
    "λ, w = eig(A.T)\n",
    "\n",
    "# Keep 5 decimals\n",
    "np.set_printoptions(precision=5)\n",
    "\n",
    "print(f\"The eigenvalues of A are:\\n {λ}\\n\")\n",
    "print(f\"The corresponding right eigenvectors are: \\n {v[:,0]} and {-v[:,1]}\\n\")\n",
    "print(f\"The corresponding left eigenvectors are: \\n {w[:,0]} and {-w[:,1]}\\n\")"
   ]
  },
  {
   "cell_type": "code",
   "execution_count": 5,
   "metadata": {},
   "outputs": [
    {
     "name": "stdout",
     "output_type": "stream",
     "text": [
      "The eigenvalues of A are:\n",
      " [2. 5.]\n",
      "\n",
      "The corresponding right eigenvectors are: \n",
      " [-0.89443  0.44721] and [0.70711 0.70711]\n",
      "\n",
      "The corresponding left eigenvectors are: \n",
      " [-0.70711  0.70711] and [0.44721 0.89443]\n",
      "\n"
     ]
    }
   ],
   "source": [
    "eigenvals, ε, e = sp.linalg.eig(A, left=True)\n",
    "\n",
    "print(f\"The eigenvalues of A are:\\n {eigenvals.real}\\n\")\n",
    "print(f\"The corresponding right eigenvectors are: \\n {e[:,0]} and {-e[:,1]}\\n\")\n",
    "print(f\"The corresponding left eigenvectors are: \\n {ε[:,0]} and {-ε[:,1]}\\n\")"
   ]
  },
  {
   "cell_type": "code",
   "execution_count": 6,
   "metadata": {},
   "outputs": [
    {
     "name": "stdout",
     "output_type": "stream",
     "text": [
      "Matrix:\n",
      "[[1 2]\n",
      " [1 4]]\n",
      "Perron projection:\n",
      "[[0.1362  0.48507]\n",
      " [0.24254 0.8638 ]]\n",
      "n = 1, error = 0.0989045731\n",
      "n = 10, error = 0.0000000001\n",
      "n = 100, error = 0.0000000000\n",
      "n = 1000, error = 0.0000000000\n",
      "n = 10000, error = 0.0000000000\n",
      "\n",
      "------------------------------------\n",
      "\n",
      "Matrix:\n",
      "[[0 1 1]\n",
      " [1 0 1]\n",
      " [1 1 0]]\n",
      "Perron projection:\n",
      "[[0.33333 0.33333 0.33333]\n",
      " [0.33333 0.33333 0.33333]\n",
      " [0.33333 0.33333 0.33333]]\n",
      "n = 1, error = 0.7071067812\n",
      "n = 10, error = 0.0013810679\n",
      "n = 100, error = 0.0000000000\n",
      "n = 1000, error = 0.0000000000\n",
      "n = 10000, error = 0.0000000000\n",
      "\n",
      "------------------------------------\n",
      "\n",
      "Matrix:\n",
      "[[0.971 0.029 0.1   1.   ]\n",
      " [0.145 0.778 0.077 0.59 ]\n",
      " [0.1   0.508 0.492 1.12 ]\n",
      " [0.2   0.8   0.71  0.95 ]]\n",
      "Perron projection:\n",
      "[[0.12506 0.31949 0.20233 0.43341]\n",
      " [0.07714 0.19707 0.1248  0.26735]\n",
      " [0.12158 0.31058 0.19669 0.42133]\n",
      " [0.13885 0.3547  0.22463 0.48118]]\n",
      "n = 1, error = 0.5361031549\n",
      "n = 10, error = 0.0000434043\n",
      "n = 100, error = 0.0000000000\n",
      "n = 1000, error = 0.0000000000\n",
      "n = 10000, error = 0.0000000000\n",
      "\n",
      "------------------------------------\n",
      "\n"
     ]
    }
   ],
   "source": [
    "def compute_perron_projection(M):\n",
    "\n",
    "    eigval, v = eig(M)\n",
    "    eigval, w = eig(M.T)\n",
    "\n",
    "    r = np.max(eigval)\n",
    "\n",
    "    # Find the index of the dominant (Perron) eigenvalue\n",
    "    i = np.argmax(eigval)\n",
    "\n",
    "    # Get the Perron eigenvectors\n",
    "    v_P = v[:, i].reshape(-1, 1)\n",
    "    w_P = w[:, i].reshape(-1, 1)\n",
    "\n",
    "    # Normalize the left and right eigenvectors\n",
    "    norm_factor = w_P.T @ v_P\n",
    "    v_norm = v_P / norm_factor\n",
    "\n",
    "    # Compute the Perron projection matrix\n",
    "    P = v_norm @ w_P.T\n",
    "    return P, r\n",
    "\n",
    "def check_convergence(M):\n",
    "    P, r = compute_perron_projection(M)\n",
    "    print(\"Perron projection:\")\n",
    "    print(P)\n",
    "\n",
    "    # Define a list of values for n\n",
    "    n_list = [1, 10, 100, 1000, 10000]\n",
    "\n",
    "    for n in n_list:\n",
    "\n",
    "        # Compute (A/r)^n\n",
    "        M_n = np.linalg.matrix_power(M/r, n)\n",
    "\n",
    "        # Compute the difference between A^n / r^n and the Perron projection\n",
    "        diff = np.abs(M_n - P)\n",
    "\n",
    "        # Calculate the norm of the difference matrix\n",
    "        diff_norm = np.linalg.norm(diff, 'fro')\n",
    "        print(f\"n = {n}, error = {diff_norm:.10f}\")\n",
    "\n",
    "\n",
    "A1 = np.array([[1, 2],\n",
    "               [1, 4]])\n",
    "\n",
    "A2 = np.array([[0, 1, 1],\n",
    "               [1, 0, 1],\n",
    "               [1, 1, 0]])\n",
    "\n",
    "A3 = np.array([[0.971, 0.029, 0.1, 1],\n",
    "               [0.145, 0.778, 0.077, 0.59],\n",
    "               [0.1, 0.508, 0.492, 1.12],\n",
    "               [0.2, 0.8, 0.71, 0.95]])\n",
    "\n",
    "for M in A1, A2, A3:\n",
    "    print(\"Matrix:\")\n",
    "    print(M)\n",
    "    check_convergence(M)\n",
    "    print()\n",
    "    print(\"-\"*36)\n",
    "    print()"
   ]
  },
  {
   "cell_type": "code",
   "execution_count": null,
   "metadata": {},
   "outputs": [],
   "source": []
  }
 ],
 "metadata": {
  "kernelspec": {
   "display_name": "Python 3",
   "language": "python",
   "name": "python3"
  },
  "language_info": {
   "codemirror_mode": {
    "name": "ipython",
    "version": 3
   },
   "file_extension": ".py",
   "mimetype": "text/x-python",
   "name": "python",
   "nbconvert_exporter": "python",
   "pygments_lexer": "ipython3",
   "version": "3.11.2"
  }
 },
 "nbformat": 4,
 "nbformat_minor": 2
}
