{
  "nbformat": 4,
  "nbformat_minor": 0,
  "metadata": {
    "colab": {
      "private_outputs": true,
      "provenance": []
    },
    "kernelspec": {
      "name": "python3",
      "display_name": "Python 3"
    },
    "language_info": {
      "name": "python"
    }
  },
  "cells": [
    {
      "cell_type": "markdown",
      "source": [
        "# Robustness"
      ],
      "metadata": {
        "id": "NmZ1Fp3mOO5o"
      }
    },
    {
      "cell_type": "markdown",
      "source": [
        "## 1.1 강건성이 필요한 이유"
      ],
      "metadata": {
        "id": "K1J6fgUfZCWw"
      }
    },
    {
      "cell_type": "code",
      "source": [
        "from random import random\n",
        "from random import randint\n",
        "from random import seed\n",
        "from numpy import arange\n",
        "import numpy as np\n",
        "from sklearn.datasets import make_regression\n",
        "from sklearn.linear_model import LinearRegression\n",
        "from sklearn.linear_model import HuberRegressor\n",
        "from matplotlib import pyplot as plt\n",
        "\n",
        "def get_dataset():\n",
        "    X, y = make_regression(n_samples=100, n_features=1, tail_strength=0.9, effective_rank=1, n_informative=1, noise=3, bias=50, random_state=1)\n",
        "    seed(1)\n",
        "    for i in range(10):\n",
        "        factor = randint(2, 4)\n",
        "        if random() > 0.5:\n",
        "            X[i] += factor * X.std()\n",
        "        else:\n",
        "            X[i] -= factor * X.std()\n",
        "    return X, y\n",
        "\n",
        "def get_models():\n",
        "    models = list()\n",
        "    models.append(LinearRegression())\n",
        "    models.append(HuberRegressor())\n",
        "    return models\n",
        "\n",
        "def plot_best_fit(X, y, xaxis, model):\n",
        "    model.fit(X, y)\n",
        "    yaxis = model.predict(xaxis.reshape((len(xaxis), 1)))\n",
        "    plt.plot(xaxis, yaxis, label=type(model).__name__)"
      ],
      "metadata": {
        "id": "3zEUlvgzOZ59"
      },
      "execution_count": null,
      "outputs": []
    },
    {
      "cell_type": "code",
      "source": [
        "X, y = get_dataset()\n",
        "xaxis = arange(X.min(), X.max(), 0.01)\n",
        "for model in get_models():\n",
        "    plot_best_fit(X, y, xaxis, model)\n",
        "plt.scatter(X, y)\n",
        "plt.title('Robust Regression')\n",
        "plt.legend()\n",
        "plt.show()"
      ],
      "metadata": {
        "id": "aa8CbaegB3fv"
      },
      "execution_count": null,
      "outputs": []
    },
    {
      "cell_type": "code",
      "source": [
        "import time\n",
        "from IPython.display import clear_output\n",
        "\n",
        "\n",
        "colormap = np.array(['b', 'r'])\n",
        "cate=np.array([0 for _ in range(len(X))])\n",
        "\n",
        "new_x,new_y=[0.5,0.51,0.5137,0.535,0.57,0.49],[0,0.5,-1,-1.9,0.05,0.03]\n",
        "\n",
        "for nx,ny in zip(new_x,new_y):\n",
        "    cate=np.append(cate,1)\n",
        "    X,y=np.append(X,[[nx]], axis=0),np.append(y,[ny], axis=0)\n",
        "    xaxis = arange(X.min(), X.max(), 0.01)\n",
        "    for model in get_models():\n",
        "        plot_best_fit(X, y, xaxis, model)\n",
        "    plt.scatter(X, y, c=colormap[cate])\n",
        "    plt.title('Robust Regression')\n",
        "    plt.legend()\n",
        "    plt.show()\n",
        "    time.sleep(2)\n",
        "    clear_output(wait=True)"
      ],
      "metadata": {
        "id": "OD_pSpoRB42E"
      },
      "execution_count": null,
      "outputs": []
    },
    {
      "cell_type": "markdown",
      "source": [
        "## 1.2 Least Quantile of Squares"
      ],
      "metadata": {
        "id": "L24E-lFifsV8"
      }
    },
    {
      "cell_type": "code",
      "source": [
        "import statsmodels.api as sm\n",
        "import statsmodels.formula.api as smf\n",
        "import matplotlib.pyplot as plt\n",
        "import seaborn as sns\n",
        "%matplotlib inline"
      ],
      "metadata": {
        "id": "VEAOArL1f0VU"
      },
      "execution_count": null,
      "outputs": []
    },
    {
      "cell_type": "code",
      "source": [
        "X.resize(X.shape[0])\n",
        "sns.scatterplot(x=X,y=y)"
      ],
      "metadata": {
        "id": "_mMoSsPsl0LG"
      },
      "execution_count": null,
      "outputs": []
    },
    {
      "cell_type": "code",
      "source": [
        "sns.distplot(y)"
      ],
      "metadata": {
        "id": "Phz9u6ymoYXh"
      },
      "execution_count": null,
      "outputs": []
    },
    {
      "cell_type": "code",
      "source": [
        "from sklearn.linear_model import LinearRegression\n",
        "\n",
        "X=X.reshape(-1,1)\n",
        "lm_model = LinearRegression()\n",
        "lm_model.fit(X,y)\n",
        "y_pred = lm_model.predict(X)\n",
        "\n",
        "plt.scatter(X, y, color ='gray')\n",
        "plt.plot(X, y_pred, color ='red', linewidth=2)\n",
        "plt.show()"
      ],
      "metadata": {
        "id": "TPlaQrcclsOW"
      },
      "execution_count": null,
      "outputs": []
    },
    {
      "cell_type": "code",
      "source": [
        "import pandas as pd\n",
        "\n",
        "X=X.reshape(-1,1)\n",
        "df=pd.DataFrame([X.reshape(-1),y],index=['X','y']).transpose()\n",
        "mod = smf.quantreg('y ~ X', df)\n",
        "quantiles = np.arange(.05,.96,.1)\n",
        "\n",
        "model_list = []\n",
        "pred_dict = {}"
      ],
      "metadata": {
        "id": "S7-NV77-ll-Y"
      },
      "execution_count": null,
      "outputs": []
    },
    {
      "cell_type": "code",
      "source": [
        "def fit_model(q):\n",
        "  res = mod.fit(q=q)\n",
        "  return [q, res.params['Intercept'], res.params['X']] + res.conf_int().loc['X'].tolist()\n",
        "\n",
        "models = [fit_model(x) for x in quantiles]\n",
        "models = pd.DataFrame(models, columns=['q', 'a', 'b', 'lb', 'ub'])"
      ],
      "metadata": {
        "id": "2ga9l8Pouu97"
      },
      "execution_count": null,
      "outputs": []
    },
    {
      "cell_type": "code",
      "source": [
        "ols = smf.ols('y ~ X', df).fit()\n",
        "ols_ci = ols.conf_int().loc['X'].tolist()\n",
        "ols = dict(a = ols.params['Intercept'],\n",
        "           b = ols.params['X'],\n",
        "           lb = ols_ci[0],\n",
        "           ub = ols_ci[1])\n",
        "\n",
        "print(models)\n",
        "print(ols)"
      ],
      "metadata": {
        "id": "qsNbtUcqljOI"
      },
      "execution_count": null,
      "outputs": []
    },
    {
      "cell_type": "code",
      "source": [
        "x = np.arange(X.min(), X.max(), 0.01)\n",
        "get_y = lambda a, b: a + b * x\n",
        "\n",
        "fig, ax = plt.subplots(figsize=(8, 6))\n",
        "\n",
        "for i in range(models.shape[0]):\n",
        "    y = get_y(models.a[i], models.b[i])\n",
        "    ax.plot(x, y, linestyle='dotted', label= str(round(0.05 + i*0.1, 2)))\n",
        "\n",
        "y = get_y(ols['a'], ols['b'])\n",
        "ax.plot(x, y, color='red', label='OLS')\n",
        "ax.scatter(x, y, alpha=.2, color='grey')\n",
        "legend = ax.legend()\n",
        "ax.set_xlabel('X', fontsize=16)\n",
        "ax.set_ylabel('y', fontsize=16)"
      ],
      "metadata": {
        "id": "g1XiEZIThDz0"
      },
      "execution_count": null,
      "outputs": []
    },
    {
      "cell_type": "code",
      "source": [
        "n = models.shape[0]\n",
        "p1 = plt.plot(models.q, models.b, color='black', label='Quantile Reg.')\n",
        "p2 = plt.plot(models.q, models.ub, linestyle='dotted', color='black')\n",
        "p3 = plt.plot(models.q, models.lb, linestyle='dotted', color='black')\n",
        "p4 = plt.plot(models.q, [ols['b']] * n, color='red', label='OLS')\n",
        "p5 = plt.plot(models.q, [ols['lb']] * n, linestyle='dotted', color='red')\n",
        "p6 = plt.plot(models.q, [ols['ub']] * n, linestyle='dotted', color='red')\n",
        "plt.ylabel(r'$\\beta_{X}$')\n",
        "plt.xlabel('Quantiles distribution')\n",
        "plt.legend()\n",
        "plt.show()"
      ],
      "metadata": {
        "id": "n_2MQyE5lfmA"
      },
      "execution_count": null,
      "outputs": []
    },
    {
      "cell_type": "markdown",
      "source": [
        "## 1.3 강건성 시뮬레이션"
      ],
      "metadata": {
        "id": "XKGD_x-ZxS4F"
      }
    },
    {
      "cell_type": "code",
      "source": [
        "import numpy as np\n",
        "\n",
        "# price with normal dist\n",
        "ret=np.random.normal(size=(999,100))\n",
        "pf_ls,pf_rank,pf_trim,pf_winz=np.array([]),np.array([]),np.array([]),np.array([])"
      ],
      "metadata": {
        "id": "YVF7Wo934Gay"
      },
      "execution_count": null,
      "outputs": []
    },
    {
      "cell_type": "code",
      "source": [
        "def long_short(i,pf_ls):\n",
        "    return np.append(pf_ls,(pf_ls[:,-1]*(1+i/100)).reshape(-1,1),axis=1)\n",
        "\n",
        "def ranking(i,pf_rank)"
      ],
      "metadata": {
        "id": "5xmwLhoBV7YX"
      },
      "execution_count": null,
      "outputs": []
    },
    {
      "cell_type": "code",
      "source": [
        "for i in ret:\n",
        "\n",
        "    price_nd=np.append(price_nd,(price_nd[:,-1]*(1+i/100)).reshape(-1,1),axis=1)"
      ],
      "metadata": {
        "id": "zmsmFf04VqG4"
      },
      "execution_count": null,
      "outputs": []
    }
  ]
}